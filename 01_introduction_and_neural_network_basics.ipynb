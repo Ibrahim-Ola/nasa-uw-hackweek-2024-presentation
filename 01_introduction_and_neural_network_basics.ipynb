{
 "cells": [
  {
   "cell_type": "markdown",
   "metadata": {},
   "source": [
    "# Neural Networks with PyTorch\n",
    "\n",
    "- Author: Ibrahim Alabi (Computing Ph.D., Boise State University)"
   ]
  },
  {
   "cell_type": "markdown",
   "metadata": {},
   "source": [
    "Welcome to the \"Introduction to Neural Networks with PyTorch\" tutorial! In this session, we'll explore the basics of neural networks and how to implement them using PyTorch, a popular deep learning framework. Our goal is to help you get acquainted with the fundamental concepts of neural networks and give you some hands-on experience with PyTorch. Whether you're new to neural networks or looking to refresh your knowledge, this tutorial is designed to guide you through the key ideas at a comfortable pace. By the end of the workshop, you’ll have a better understanding of how neural networks work and how you can start using PyTorch for your own projects.\n"
   ]
  },
  {
   "cell_type": "markdown",
   "metadata": {},
   "source": [
    "```{important} ## Learning Goals\n",
    "\n",
    "By the end of this workshop, you will be able to:\n",
    "- Understand the basic concepts behind neural networks.\n",
    "- Get familiar with the PyTorch framework.\n",
    "- Build and train a simple neural network using PyTorch.\n",
    "- Apply neural network concepts to predict snow density using SNOTEL data.\n",
    "```"
   ]
  },
  {
   "cell_type": "code",
   "execution_count": null,
   "metadata": {},
   "outputs": [],
   "source": []
  }
 ],
 "metadata": {
  "kernelspec": {
   "display_name": ".venv",
   "language": "python",
   "name": "python3"
  },
  "language_info": {
   "name": "python",
   "version": "3.10.10"
  }
 },
 "nbformat": 4,
 "nbformat_minor": 2
}
